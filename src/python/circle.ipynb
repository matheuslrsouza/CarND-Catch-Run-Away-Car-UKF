{
 "cells": [
  {
   "cell_type": "code",
   "execution_count": 97,
   "metadata": {},
   "outputs": [
    {
     "name": "stdout",
     "output_type": "stream",
     "text": [
      "2.0\n"
     ]
    },
    {
     "data": {
      "image/png": "[encoded data removed]",
      "text/plain": [
       "<matplotlib.figure.Figure at 0x11c5daeb8>"
      ]
     },
     "metadata": {},
     "output_type": "display_data"
    }
   ],
   "source": [
    "import numpy as np\n",
    "import matplotlib.pyplot as plt\n",
    "import math\n",
    "\n",
    "\n",
    "circle = plt.Circle((4,4), radius=2, color='g')\n",
    "\n",
    "fig, ax = plt.subplots()\n",
    "ax.set_xlim((0, 10))\n",
    "ax.set_ylim((0, 10))\n",
    "\n",
    "ax.add_artist(circle)\n",
    "\n",
    "origin = 4\n",
    "hip = 2\n",
    "x1 = 6\n",
    "# calculate the sin\n",
    "y1 = math.sqrt(hip*hip - (x1-origin)*(x1-origin)) + origin\n",
    "\n",
    "x2, y2 = 4, 6\n",
    "\n",
    "\n",
    "x3 = 2\n",
    "# calculate the sin\n",
    "y3 = math.sqrt(hip*hip - (x3-origin)*(x3-origin)) + origin\n",
    "\n",
    "\n",
    "lines = plt.plot(x1, y1, x2, y2)\n",
    "plt.plot([x1, x2], [y1, y2], linewidth=2.0, color='b')\n",
    "plt.plot([x2, x3], [y2, y3], linewidth=2.0, color='r')\n",
    "\n",
    "# calculate the slopes\n",
    "\n",
    "ma = (y2 - y1) / (x2 - x1)\n",
    "mb = (y3 - y2) / (x3 - x2)\n",
    "\n",
    "# defining center using two lines perpendicular\n",
    "X = (ma * mb * (y1 - y3) + mb * (x1 + x2) - ma * (x2 + x3)) / (2 * (mb - ma))\n",
    "\n",
    "ya = -1/ma * (X - (x1+x2)/2) + (y1+y2)/2\n",
    "\n",
    "plt.plot(X, ya, color='r', marker='o')\n",
    "\n",
    "delta_x = x1 - X\n",
    "delta_y = y1 - ya\n",
    "radius = math.sqrt(delta_x*delta_x + delta_y*delta_y)\n",
    "\n",
    "print(radius)\n",
    "\n",
    "\n",
    "plt.show()"
   ]
  },
  {
   "cell_type": "code",
   "execution_count": null,
   "metadata": {
    "collapsed": true
   },
   "outputs": [],
   "source": []
  }
 ],
 "metadata": {
  "kernelspec": {
   "display_name": "Python 3",
   "language": "python",
   "name": "python3"
  },
  "language_info": {
   "codemirror_mode": {
    "name": "ipython",
    "version": 3
   },
   "file_extension": ".py",
   "mimetype": "text/x-python",
   "name": "python",
   "nbconvert_exporter": "python",
   "pygments_lexer": "ipython3",
   "version": "3.5.2"
  },
  "widgets": {
   "state": {},
   "version": "1.1.2"
  }
 },
 "nbformat": 4,
 "nbformat_minor": 2
}
